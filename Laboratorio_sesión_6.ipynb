{
  "nbformat": 4,
  "nbformat_minor": 0,
  "metadata": {
    "colab": {
      "provenance": [],
      "include_colab_link": true
    },
    "kernelspec": {
      "name": "python3",
      "display_name": "Python 3"
    },
    "language_info": {
      "name": "python"
    }
  },
  "cells": [
    {
      "cell_type": "markdown",
      "metadata": {
        "id": "view-in-github",
        "colab_type": "text"
      },
      "source": [
        "<a href=\"https://colab.research.google.com/github/Mcporrasl/TTV-Analisis-de-Datos-MINTIC---Unilibre-2025/blob/main/Laboratorio_sesi%C3%B3n_6.ipynb\" target=\"_parent\"><img src=\"https://colab.research.google.com/assets/colab-badge.svg\" alt=\"Open In Colab\"/></a>"
      ]
    },
    {
      "cell_type": "markdown",
      "source": [
        "# **Laboratorio 6**"
      ],
      "metadata": {
        "id": "zpxKZsMFP7dH"
      }
    },
    {
      "cell_type": "markdown",
      "source": [
        "## **Parte 2**\n",
        "\n",
        "En el segundo ejercicio de práctica debes aplicar los pasos del algoritmo describiendo, luego realizar el código en Python y pegarlo en el Word, debes anexar la captura de pantalla del resultado"
      ],
      "metadata": {
        "id": "rtcJh3V3QBvk"
      }
    },
    {
      "cell_type": "markdown",
      "source": [
        "**1.\tAlgoritmo para Preparar un Té:** Este algoritmo describe los pasos para preparar un té y lo implementamos en Python.\n",
        "\n",
        "-\tPasos:\n",
        " * Calentar agua.\n",
        " *Colocar una bolsa de té en una taza.\n",
        " *Verter agua caliente en la taza.\n",
        " *Esperar 3-5 minutos.\n",
        " *Retirar la bolsa de té y disfrutar.\n",
        "-\tCódigo:\n"
      ],
      "metadata": {
        "id": "7FH0WAUjQLK2"
      }
    },
    {
      "cell_type": "code",
      "execution_count": 4,
      "metadata": {
        "id": "kz1ukGPsKsn1",
        "colab": {
          "base_uri": "https://localhost:8080/"
        },
        "outputId": "a5a30ebe-a988-49f4-99d8-66fc8c9c824b"
      },
      "outputs": [
        {
          "output_type": "stream",
          "name": "stdout",
          "text": [
            "¿Hay agua caliente? (si/no): si\n",
            "¿Tienes una bolsa de té? (si/no): si\n",
            "Pasos para preparar un té\n",
            "1. Coloca la bolsa de té en la taza\n",
            "2. Vierte el agua caliente en la taza\n",
            "3. Espera 3-5 minutos\n",
            "4. Retira la bolsa de té y disfruta\n"
          ]
        }
      ],
      "source": [
        "# Solicitar al usuario las entradas\n",
        "agua_input = input(\"¿Hay agua caliente? (si/no): \").strip().lower()\n",
        "te_input = input(\"¿Tienes una bolsa de té? (si/no): \").strip().lower()\n",
        "\n",
        "# Convertir las respuestas a valores booleanos\n",
        "agua_caliente = agua_input == \"si\"\n",
        "bolsa_te = te_input == \"si\"\n",
        "\n",
        "# Lógica para preparar el té\n",
        "if agua_caliente and bolsa_te:\n",
        "    print(\"Pasos para preparar un té\")\n",
        "    print(\"1. Coloca la bolsa de té en la taza\")\n",
        "    print(\"2. Vierte el agua caliente en la taza\")\n",
        "    print(\"3. Espera 3-5 minutos\")\n",
        "    print(\"4. Retira la bolsa de té y disfruta\")\n",
        "else:\n",
        "    print(\"OJO: No puedes preparar el té porque falta agua caliente o bolsa de té\")\n"
      ]
    },
    {
      "cell_type": "markdown",
      "source": [
        "**2.\tCálculo del Promedio de Notas:** Utilizar variables y tipos de datos para almacenar las notas de un estudiante, y un operador aritmético para calcular el promedio."
      ],
      "metadata": {
        "id": "SmovPtq2Q-b3"
      }
    },
    {
      "cell_type": "code",
      "source": [
        "cantidad_notas = int(input(\"Ingrese la cantidad de notas: \"))\n",
        "\n",
        "suma_notas = 0\n",
        "\n",
        "for i in range(cantidad_notas):\n",
        "    nota = float(input(f\"Ingrese la nota {i + 1}: \"))\n",
        "    suma_notas += nota\n",
        "    promedio = suma_notas / cantidad_notas\n",
        "\n",
        "print(f\"El promedio de las notas es: {promedio}\")\n"
      ],
      "metadata": {
        "id": "M7ITXBQLRfgS",
        "colab": {
          "base_uri": "https://localhost:8080/"
        },
        "outputId": "9a8fb051-6f79-42ef-a0df-6264da1ff146"
      },
      "execution_count": 8,
      "outputs": [
        {
          "output_type": "stream",
          "name": "stdout",
          "text": [
            "Ingrese la cantidad de notas: 5\n",
            "Ingrese la nota 1: 2\n",
            "Ingrese la nota 2: 5\n",
            "Ingrese la nota 3: 2\n",
            "Ingrese la nota 4: 5\n",
            "Ingrese la nota 5: 4.2\n",
            "El promedio de las notas es: 3.6399999999999997\n"
          ]
        }
      ]
    },
    {
      "cell_type": "markdown",
      "source": [
        "**3.\tVerificar si un Número es Par o Impar:** Utiliza condicionales para verificar si un número es par o impar, y operadores para realizar el cálculo."
      ],
      "metadata": {
        "id": "_pjkhZpERDio"
      }
    },
    {
      "cell_type": "code",
      "source": [
        "\n",
        "# Solicitar al usuario un número\n",
        "numero = int(input(\"Ingrese un número: \"))\n",
        "\n",
        "# Verificar si el número es par o impar\n",
        "if numero % 2 == 0:\n",
        "    print(f\"{numero} es un número par.\")\n",
        "else:\n",
        "    print(f\"{numero} es un número impar.\")\n"
      ],
      "metadata": {
        "id": "pQdC0ceHRgHs",
        "colab": {
          "base_uri": "https://localhost:8080/"
        },
        "outputId": "1321f4ac-5bcd-45ac-c2dc-4d6e156bc70b"
      },
      "execution_count": 6,
      "outputs": [
        {
          "output_type": "stream",
          "name": "stdout",
          "text": [
            "Ingrese un número: 3\n",
            "3 es un número impar.\n"
          ]
        }
      ]
    },
    {
      "cell_type": "markdown",
      "source": [
        "**4.\tBucle for para Imprimir Números del 1 al 5:** Usar un bucle for para mostrar los números del 1 al 5 y combinar los operadores aritméticos para mostrar si son pares o impares."
      ],
      "metadata": {
        "id": "k6uA-1Z-RGwc"
      }
    },
    {
      "cell_type": "code",
      "source": [
        "# Imprimir números del 1 al 5 e indicar si son pares o impares\n",
        "for numero in range(1, 6):\n",
        "    print(numero)\n",
        "    if numero % 2 == 0:\n",
        "        print(\"es par\")\n",
        "    else:\n",
        "        print(\"es impar\")\n"
      ],
      "metadata": {
        "id": "O-Qk1zTpRgfE",
        "colab": {
          "base_uri": "https://localhost:8080/"
        },
        "outputId": "2e26333d-5337-439a-814e-eb6812d25c09"
      },
      "execution_count": 12,
      "outputs": [
        {
          "output_type": "stream",
          "name": "stdout",
          "text": [
            "1\n",
            "es impar\n",
            "2\n",
            "es par\n",
            "3\n",
            "es impar\n",
            "4\n",
            "es par\n",
            "5\n",
            "es impar\n"
          ]
        }
      ]
    },
    {
      "cell_type": "markdown",
      "source": [
        "**5.\tConvertir Grados Celsius a Fahrenheit**: Usar una función para convertir grados Celsius a Fahrenheit. La fórmula para la conversión es Fahrenheit = (Celsius * 9/5) + 32."
      ],
      "metadata": {
        "id": "Nz2PBiLeRLgm"
      }
    },
    {
      "cell_type": "code",
      "source": [
        "def celsius_a_fahrenheit(celsius):\n",
        "    fahrenheit = (celsius * 9/5) + 32\n",
        "    return fahrenheit\n",
        "\n",
        "grados_celsius = float(input(\"Ingrese los grados Celsius: \"))\n",
        "grados_fahrenheit = celsius_a_fahrenheit(grados_celsius)\n",
        "print(f\"{grados_celsius} grados Celsius son equivalentes a {grados_fahrenheit} grados Fahrenheit.\")\n",
        "\n"
      ],
      "metadata": {
        "id": "_2kncrvtRg1f",
        "colab": {
          "base_uri": "https://localhost:8080/"
        },
        "outputId": "dbe92b8b-ad8c-4afc-c785-2d2fef67c8d4"
      },
      "execution_count": 15,
      "outputs": [
        {
          "output_type": "stream",
          "name": "stdout",
          "text": [
            "Ingrese los grados Celsius: 33\n",
            "33.0 grados Celsius son equivalentes a 91.4 grados Fahrenheit.\n"
          ]
        }
      ]
    },
    {
      "cell_type": "markdown",
      "source": [
        "**6.\tContar la Cantidad de Vocales en una Cadena de Texto:** Utilizar un bucle for y una condicional para contar cuántas vocales hay en una cadena de texto ingresada por el usuario."
      ],
      "metadata": {
        "id": "6FQamkdLRO2m"
      }
    },
    {
      "cell_type": "code",
      "source": [
        "# Solicitar al usuario una cadena de texto\n",
        "texto = input(\"Ingrese una cadena de texto: \")\n",
        "\n",
        "# Inicializar contador de vocales\n",
        "contador_vocales = 0\n",
        "\n",
        "# Definir las vocales\n",
        "vocales = \"aeiouáéíóúAEIOUÁÉÍÓÚ\"\n",
        "\n",
        "# Recorrer cada carácter en el texto\n",
        "for letra in texto:\n",
        "    if letra in vocales:\n",
        "        contador_vocales += 1\n",
        "\n",
        "# Mostrar el resultado\n",
        "print(f\"La cantidad de vocales en el texto es: {contador_vocales}\")\n",
        "\n"
      ],
      "metadata": {
        "id": "v1nIfE7bRhM-",
        "colab": {
          "base_uri": "https://localhost:8080/"
        },
        "outputId": "d7678b92-3fd4-4b16-a54e-5540a6bf5570"
      },
      "execution_count": 17,
      "outputs": [
        {
          "output_type": "stream",
          "name": "stdout",
          "text": [
            "Ingrese una cadena de texto: hola como estas\n",
            "La cantidad de vocales en el texto es: 6\n"
          ]
        }
      ]
    },
    {
      "cell_type": "markdown",
      "source": [
        "**7.\tCalcular el Factorial de un Número:** Usar un bucle while para calcular el factorial de un número ingresado por el usuario. El factorial de un número n (n!) es el producto de todos los números enteros positivos menores o iguales a n."
      ],
      "metadata": {
        "id": "p0utccHiRY6J"
      }
    },
    {
      "cell_type": "code",
      "source": [
        "# Solicitar al usuario un número entero positivo\n",
        "numero = int(input(\"Ingrese un número entero positivo: \"))\n",
        "\n",
        "# Validar que el número sea no negativo\n",
        "if numero < 0:\n",
        "    print(\"El factorial no está definido para números negativos.\")\n",
        "else:\n",
        "    factorial = 1\n",
        "    contador = 1\n",
        "\n",
        "    # Calcular el factorial con un bucle while\n",
        "    while contador <= numero:\n",
        "        factorial *= contador\n",
        "        contador += 1\n",
        "\n",
        "    # Mostrar el resultado\n",
        "    print(f\"El factorial de {numero} es: {factorial}\")\n"
      ],
      "metadata": {
        "id": "3hUU8b3eRhik",
        "colab": {
          "base_uri": "https://localhost:8080/"
        },
        "outputId": "ee0087f4-2747-494a-8ff6-bc41ea3eb899"
      },
      "execution_count": 18,
      "outputs": [
        {
          "output_type": "stream",
          "name": "stdout",
          "text": [
            "Ingrese un número entero positivo: 45\n",
            "El factorial de 45 es: 119622220865480194561963161495657715064383733760000000000\n"
          ]
        }
      ]
    }
  ]
}